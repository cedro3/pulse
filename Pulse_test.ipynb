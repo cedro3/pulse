{
  "nbformat": 4,
  "nbformat_minor": 0,
  "metadata": {
    "colab": {
      "name": "Pulse_test",
      "provenance": [],
      "authorship_tag": "ABX9TyPuglhzvvxUt5rmqs0dVyFo",
      "include_colab_link": true
    },
    "kernelspec": {
      "name": "python3",
      "display_name": "Python 3"
    },
    "accelerator": "GPU"
  },
  "cells": [
    {
      "cell_type": "markdown",
      "metadata": {
        "id": "view-in-github",
        "colab_type": "text"
      },
      "source": [
        "<a href=\"https://colab.research.google.com/github/cedro3/pulse/blob/master/Pulse_test.ipynb\" target=\"_parent\"><img src=\"https://colab.research.google.com/assets/colab-badge.svg\" alt=\"Open In Colab\"/></a>"
      ]
    },
    {
      "cell_type": "markdown",
      "metadata": {
        "id": "946iGUdUoJKv",
        "colab_type": "text"
      },
      "source": [
        "# Pulse_test"
      ]
    },
    {
      "cell_type": "markdown",
      "metadata": {
        "id": "CxNRwEAW37VI",
        "colab_type": "text"
      },
      "source": [
        "#1.Set up\n",
        "　adamian98/pulseをforkしたcedro3/pulseをgit cloneします。"
      ]
    },
    {
      "cell_type": "code",
      "metadata": {
        "id": "RpjHqFH4BxLi",
        "colab_type": "code",
        "colab": {}
      },
      "source": [
        "!git clone https://github.com/cedro3/pulse.git"
      ],
      "execution_count": null,
      "outputs": []
    },
    {
      "cell_type": "code",
      "metadata": {
        "id": "Yyhzc6qYCU8v",
        "colab_type": "code",
        "colab": {}
      },
      "source": [
        "cd pulse"
      ],
      "execution_count": null,
      "outputs": []
    },
    {
      "cell_type": "markdown",
      "metadata": {
        "id": "2-qe3hmO4AdG",
        "colab_type": "text"
      },
      "source": [
        "#2.Difine Function\n",
        "　フォルダー内の画像を表示する関数を定義します。"
      ]
    },
    {
      "cell_type": "code",
      "metadata": {
        "id": "OWR5X_31pbl_",
        "colab_type": "code",
        "colab": {}
      },
      "source": [
        "import numpy as np\n",
        "from PIL import Image\n",
        "import matplotlib.pyplot as plt\n",
        "import glob\n",
        "\n",
        "def display(DIR):\n",
        "  files = glob.glob(DIR+'/*.png')\n",
        "  files.sort()\n",
        "  fig = plt.figure(figsize=(30, 30))    \n",
        "  for i, file in enumerate(files):\n",
        "      img = Image.open(file)\n",
        "      img_plt = np.asarray(img)\n",
        "      ax = fig.add_subplot(10, 10, i+1, xticks=[], yticks=[])\n",
        "      ax.imshow(img_plt)\n",
        "      ax.set_xlabel(file.replace(DIR+'/',''), fontsize=12)        \n",
        "  plt.show()\n",
        "  plt.close()"
      ],
      "execution_count": null,
      "outputs": []
    },
    {
      "cell_type": "markdown",
      "metadata": {
        "id": "o_NwDrxD4HI3",
        "colab_type": "text"
      },
      "source": [
        "#3.Make Directory\n",
        "　入出力のフォルダーを作成します。"
      ]
    },
    {
      "cell_type": "code",
      "metadata": {
        "id": "SiKTIlIrGi_h",
        "colab_type": "code",
        "colab": {}
      },
      "source": [
        "import os\n",
        "os.makedirs('out/FFHQ', exist_ok=True)\n",
        "os.makedirs('out/Web', exist_ok=True)\n",
        "os.makedirs('out/Webj', exist_ok=True)\n",
        "os.makedirs('out/test', exist_ok=True)\n",
        "\n",
        "os.makedirs('input/FFHQ', exist_ok=True)\n",
        "os.makedirs('input/Web', exist_ok=True)\n",
        "os.makedirs('input/Webj', exist_ok=True)\n",
        "os.makedirs('input/test', exist_ok=True)\n",
        "\n",
        "os.makedirs('runs/FFHQ', exist_ok=True)\n",
        "os.makedirs('runs/Web', exist_ok=True)\n",
        "os.makedirs('runs/Webj', exist_ok=True)\n",
        "os.makedirs('runs/test', exist_ok=True)"
      ],
      "execution_count": null,
      "outputs": []
    },
    {
      "cell_type": "markdown",
      "metadata": {
        "id": "MtS2KLjM4NI-",
        "colab_type": "text"
      },
      "source": [
        "#4.Leraning face images (FFHQ dataset)"
      ]
    },
    {
      "cell_type": "code",
      "metadata": {
        "id": "V954ueLg4j7u",
        "colab_type": "code",
        "colab": {}
      },
      "source": [
        "!python align_face.py -input_dir 'sample/FFHQ' -output_dir 'input/FFHQ' -output_dir2 'out/FFHQ'"
      ],
      "execution_count": null,
      "outputs": []
    },
    {
      "cell_type": "code",
      "metadata": {
        "id": "rIppJbFEB-18",
        "colab_type": "code",
        "colab": {}
      },
      "source": [
        "!python run.py -input_dir 'input/FFHQ' -output_dir 'runs/FFHQ' -steps 1000  "
      ],
      "execution_count": null,
      "outputs": []
    },
    {
      "cell_type": "code",
      "metadata": {
        "id": "kPAflpCsqPp2",
        "colab_type": "code",
        "colab": {}
      },
      "source": [
        "display('./input/FFHQ')\n",
        "display('./runs/FFHQ')\n",
        "display('./out/FFHQ')"
      ],
      "execution_count": null,
      "outputs": []
    },
    {
      "cell_type": "markdown",
      "metadata": {
        "id": "RxPm_K6a7358",
        "colab_type": "text"
      },
      "source": [
        "# 5.Unlearned face images (Face images of foreigner on the Web)"
      ]
    },
    {
      "cell_type": "code",
      "metadata": {
        "id": "u3KnI0wo7d-7",
        "colab_type": "code",
        "colab": {}
      },
      "source": [
        "!python align_face.py -input_dir 'sample/Web' -output_dir 'input/Web' -output_dir2 'out/Web'"
      ],
      "execution_count": null,
      "outputs": []
    },
    {
      "cell_type": "code",
      "metadata": {
        "id": "e9k_C0fz7eCF",
        "colab_type": "code",
        "colab": {}
      },
      "source": [
        "!python run.py -input_dir 'input/Web' -output_dir 'runs/Web' -steps 1000 "
      ],
      "execution_count": null,
      "outputs": []
    },
    {
      "cell_type": "code",
      "metadata": {
        "id": "ERiCFZQF7eHp",
        "colab_type": "code",
        "colab": {}
      },
      "source": [
        "display('./input/Web')\n",
        "display('./runs/Web')\n",
        "display('./out/Web')"
      ],
      "execution_count": null,
      "outputs": []
    },
    {
      "cell_type": "markdown",
      "metadata": {
        "id": "0t4RO_8y8HRH",
        "colab_type": "text"
      },
      "source": [
        "# 6.Unlearned face images (Face images of Janapese on the Web)"
      ]
    },
    {
      "cell_type": "code",
      "metadata": {
        "id": "nkbASozU7eKv",
        "colab_type": "code",
        "colab": {}
      },
      "source": [
        "!python align_face.py -input_dir 'sample/Webj' -output_dir 'input/Webj' -output_dir2 'out/Webj'"
      ],
      "execution_count": null,
      "outputs": []
    },
    {
      "cell_type": "code",
      "metadata": {
        "id": "bRjwTFCF7eQm",
        "colab_type": "code",
        "colab": {}
      },
      "source": [
        "!python run.py -input_dir 'input/Webj' -output_dir 'runs/Webj' -steps 1000 "
      ],
      "execution_count": null,
      "outputs": []
    },
    {
      "cell_type": "code",
      "metadata": {
        "id": "t4zfDx_Y7eWy",
        "colab_type": "code",
        "colab": {}
      },
      "source": [
        "display('./input/Webj')\n",
        "display('./runs/Webj')\n",
        "display('./out/Webj')"
      ],
      "execution_count": null,
      "outputs": []
    },
    {
      "cell_type": "markdown",
      "metadata": {
        "id": "NAGEIa7X362X",
        "colab_type": "text"
      },
      "source": [
        "# 7.Real test"
      ]
    },
    {
      "cell_type": "code",
      "metadata": {
        "id": "09L3wI3_4HRC",
        "colab_type": "code",
        "colab": {}
      },
      "source": [
        "!python align_face.py -input_dir 'sample/test' -output_dir 'input/test' -output_dir2 'out/test'"
      ],
      "execution_count": null,
      "outputs": []
    },
    {
      "cell_type": "code",
      "metadata": {
        "id": "R93GgUFP4HYc",
        "colab_type": "code",
        "colab": {}
      },
      "source": [
        "!python run.py -input_dir 'input/test' -output_dir 'runs/test' -steps 6000"
      ],
      "execution_count": null,
      "outputs": []
    },
    {
      "cell_type": "code",
      "metadata": {
        "id": "Y20W2ACl4HhV",
        "colab_type": "code",
        "colab": {}
      },
      "source": [
        "display('./input/test')\n",
        "display('./runs/test')\n",
        "display('./out/test')"
      ],
      "execution_count": null,
      "outputs": []
    }
  ]
}
