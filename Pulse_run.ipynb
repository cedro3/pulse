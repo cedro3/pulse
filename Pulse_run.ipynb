{
  "nbformat": 4,
  "nbformat_minor": 0,
  "metadata": {
    "colab": {
      "name": "Pulse_run",
      "provenance": [],
      "include_colab_link": true
    },
    "kernelspec": {
      "name": "python3",
      "display_name": "Python 3"
    },
    "accelerator": "GPU"
  },
  "cells": [
    {
      "cell_type": "markdown",
      "metadata": {
        "id": "view-in-github",
        "colab_type": "text"
      },
      "source": [
        "<a href=\"https://colab.research.google.com/github/cedro3/pulse/blob/master/Pulse_run.ipynb\" target=\"_parent\"><img src=\"https://colab.research.google.com/assets/colab-badge.svg\" alt=\"Open In Colab\"/></a>"
      ]
    },
    {
      "cell_type": "markdown",
      "metadata": {
        "id": "946iGUdUoJKv"
      },
      "source": [
        "# Pulse_demo"
      ]
    },
    {
      "cell_type": "markdown",
      "metadata": {
        "id": "CxNRwEAW37VI"
      },
      "source": [
        "# セットアップ\n"
      ]
    },
    {
      "cell_type": "code",
      "metadata": {
        "id": "RpjHqFH4BxLi"
      },
      "source": [
        "!git clone https://github.com/cedro3/pulse.git"
      ],
      "execution_count": null,
      "outputs": []
    },
    {
      "cell_type": "code",
      "metadata": {
        "id": "Yyhzc6qYCU8v"
      },
      "source": [
        "cd pulse"
      ],
      "execution_count": null,
      "outputs": []
    },
    {
      "cell_type": "code",
      "metadata": {
        "id": "SiKTIlIrGi_h"
      },
      "source": [
        "import os\n",
        "os.makedirs('out', exist_ok=True)\n",
        "os.makedirs('input', exist_ok=True)\n",
        "os.makedirs('runs', exist_ok=True)"
      ],
      "execution_count": null,
      "outputs": []
    },
    {
      "cell_type": "markdown",
      "metadata": {
        "id": "2-qe3hmO4AdG"
      },
      "source": [
        "# 関数の定義\n"
      ]
    },
    {
      "cell_type": "code",
      "metadata": {
        "id": "OWR5X_31pbl_"
      },
      "source": [
        "import numpy as np\n",
        "from PIL import Image\n",
        "import matplotlib.pyplot as plt\n",
        "import glob\n",
        "\n",
        "def display(DIR):\n",
        "  files = glob.glob(DIR+'/*.png')\n",
        "  files.sort()\n",
        "  fig = plt.figure(figsize=(60, 60))    \n",
        "  for i, file in enumerate(files):\n",
        "      img = Image.open(file)\n",
        "      img_plt = np.asarray(img)\n",
        "      ax = fig.add_subplot(10, 10, i+1, xticks=[], yticks=[])\n",
        "      ax.imshow(img_plt)\n",
        "      ax.set_xlabel(file.replace(DIR+'/',''), fontsize=12)        \n",
        "  plt.show()\n",
        "  plt.close()"
      ],
      "execution_count": null,
      "outputs": []
    },
    {
      "cell_type": "markdown",
      "metadata": {
        "id": "NAGEIa7X362X"
      },
      "source": [
        "# 高解像度化テスト1\n",
        "32×32から1024×1024の高解像度画像を生成する(steps=300)"
      ]
    },
    {
      "cell_type": "code",
      "metadata": {
        "id": "ScVpZS8sIn0Y"
      },
      "source": [
        "!python align_face.py -input_dir 'sample/pic' -output_dir 'input' -output_dir2 'out' -output_size=32\n",
        "display('./out')"
      ],
      "execution_count": null,
      "outputs": []
    },
    {
      "cell_type": "code",
      "metadata": {
        "id": "09L3wI3_4HRC"
      },
      "source": [
        "!python run.py -input_dir 'input' -output_dir 'runs' -steps 300\n",
        "display('./out')\n",
        "display('./runs')"
      ],
      "execution_count": null,
      "outputs": []
    },
    {
      "cell_type": "markdown",
      "metadata": {
        "id": "hxF60yqtCp_D"
      },
      "source": [
        "# 高解像度化テスト２\n",
        "64×64から1024×1024の高解像度画像を生成する(steps=1000)"
      ]
    },
    {
      "cell_type": "code",
      "metadata": {
        "id": "XyjlmvWfiJls"
      },
      "source": [
        "!python align_face.py -input_dir 'sample/pic' -output_dir 'input' -output_dir2 'out' -output_size=64\n",
        "!python run.py -input_dir 'input' -output_dir 'runs' -steps 1000\n",
        "display('./out')\n",
        "display('./runs')"
      ],
      "execution_count": null,
      "outputs": []
    }
  ]
}